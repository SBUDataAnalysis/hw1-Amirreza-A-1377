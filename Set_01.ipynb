{
  "nbformat": 4,
  "nbformat_minor": 0,
  "metadata": {
    "colab": {
      "name": "Set_01.ipynb",
      "provenance": [],
      "collapsed_sections": []
    },
    "kernelspec": {
      "name": "python3",
      "display_name": "Python 3"
    },
    "language_info": {
      "name": "python"
    }
  },
  "cells": [
    {
      "cell_type": "markdown",
      "source": [
        "The first program"
      ],
      "metadata": {
        "id": "RlM5hY6G-ChB"
      }
    },
    {
      "cell_type": "code",
      "execution_count": 39,
      "metadata": {
        "colab": {
          "base_uri": "https://localhost:8080/"
        },
        "id": "0pr3r94U9pKV",
        "outputId": "b8e9d36e-4ec4-4416-ad80-123738360755"
      },
      "outputs": [
        {
          "output_type": "stream",
          "name": "stdout",
          "text": [
            "Hello world!\n"
          ]
        }
      ],
      "source": [
        "print('Hello world!')"
      ]
    },
    {
      "cell_type": "markdown",
      "source": [
        "## Lists, sets and tuples"
      ],
      "metadata": {
        "id": "03P8_w5l-Qeo"
      }
    },
    {
      "cell_type": "code",
      "source": [
        "a = [1, 1, 2, 3, 5, 2, 6, 7, 7, 5]  #This is a list\n",
        "b = {1, 1, 2, 3, 5, 2, 6, 7, 7, 5}  #This is a set\n",
        "c = (1, 1, 2, 3, 5, 2, 6, 7, 7, 5)  #This is a tuple"
      ],
      "metadata": {
        "id": "b62OnUiR-JmP"
      },
      "execution_count": 40,
      "outputs": []
    },
    {
      "cell_type": "markdown",
      "source": [
        "Now print each one to see what's the difference between them.\n",
        "\n",
        "**They don't seem to be much different in this regard.**"
      ],
      "metadata": {
        "id": "BWK-UpXh_mCD"
      }
    },
    {
      "cell_type": "code",
      "source": [
        "print('a =', a)\n",
        "print('b =', b)\n",
        "print('c =', c)\n"
      ],
      "metadata": {
        "colab": {
          "base_uri": "https://localhost:8080/"
        },
        "id": "IbV7UwrT_Ws4",
        "outputId": "aec880e6-1b40-4a38-9642-df4805d07e07"
      },
      "execution_count": 41,
      "outputs": [
        {
          "output_type": "stream",
          "name": "stdout",
          "text": [
            "a = [1, 1, 2, 3, 5, 2, 6, 7, 7, 5]\n",
            "b = {1, 2, 3, 5, 6, 7}\n",
            "c = (1, 1, 2, 3, 5, 2, 6, 7, 7, 5)\n"
          ]
        }
      ]
    },
    {
      "cell_type": "markdown",
      "source": [
        "As you see, sets behave in the way that we expect from math, they only keep one instance of each member and disregard the rest. We can put all kinds of objects in a set, list or tuple."
      ],
      "metadata": {
        "id": "hxbBiYR-_vOM"
      }
    },
    {
      "cell_type": "code",
      "source": [
        "d = ['Salam', 'Sib', 35.43, 12, b, 'x'+'y', 44]\n",
        "print(d)"
      ],
      "metadata": {
        "colab": {
          "base_uri": "https://localhost:8080/"
        },
        "id": "3A2HVSGk_hyF",
        "outputId": "66f773f7-9735-4904-deee-762e30cf1fb1"
      },
      "execution_count": 42,
      "outputs": [
        {
          "output_type": "stream",
          "name": "stdout",
          "text": [
            "['Salam', 'Sib', 35.43, 12, {1, 2, 3, 5, 6, 7}, 'xy', 44]\n"
          ]
        }
      ]
    },
    {
      "cell_type": "markdown",
      "source": [
        " Also try this for a set and a tuple and print the results."
      ],
      "metadata": {
        "id": "kQ6QFyvABDlu"
      }
    },
    {
      "cell_type": "code",
      "source": [
        "e = {\"Three\",3,(3,3),'3',3}\n",
        "d = (\"Four\",4,(4,4),'4',4)\n",
        "print(e)\n",
        "print(d)"
      ],
      "metadata": {
        "id": "VPQyjZzfATxQ",
        "colab": {
          "base_uri": "https://localhost:8080/"
        },
        "outputId": "52eccc81-d3bc-4998-e3f8-69042daa7b15"
      },
      "execution_count": 43,
      "outputs": [
        {
          "output_type": "stream",
          "name": "stdout",
          "text": [
            "{3, (3, 3), '3', 'Three'}\n",
            "('Four', 4, (4, 4), '4', 4)\n"
          ]
        }
      ]
    },
    {
      "cell_type": "markdown",
      "source": [
        "Now let's see the differense between lists and tuples."
      ],
      "metadata": {
        "id": "85cvYMhjCM8Z"
      }
    },
    {
      "cell_type": "code",
      "source": [
        "a.append([32, 54, 'Adas'])\n",
        "print(a)"
      ],
      "metadata": {
        "colab": {
          "base_uri": "https://localhost:8080/"
        },
        "id": "OqFUXYSLBTwy",
        "outputId": "4869b515-3ab5-4599-af5b-c35dd22efd3c"
      },
      "execution_count": 44,
      "outputs": [
        {
          "output_type": "stream",
          "name": "stdout",
          "text": [
            "[1, 1, 2, 3, 5, 2, 6, 7, 7, 5, [32, 54, 'Adas']]\n"
          ]
        }
      ]
    },
    {
      "cell_type": "code",
      "source": [
        "a.remove(7)\n",
        "print(a)"
      ],
      "metadata": {
        "colab": {
          "base_uri": "https://localhost:8080/"
        },
        "id": "zoa1EKeRC7d1",
        "outputId": "65db16ed-ed15-45a5-d77f-bf982edf22a2"
      },
      "execution_count": 45,
      "outputs": [
        {
          "output_type": "stream",
          "name": "stdout",
          "text": [
            "[1, 1, 2, 3, 5, 2, 6, 7, 5, [32, 54, 'Adas']]\n"
          ]
        }
      ]
    },
    {
      "cell_type": "code",
      "source": [
        "c.count(1)"
      ],
      "metadata": {
        "colab": {
          "base_uri": "https://localhost:8080/"
        },
        "id": "oqhRk2cmDHYq",
        "outputId": "bcd80ca6-20ad-4e47-88ad-201ffe576484"
      },
      "execution_count": 46,
      "outputs": [
        {
          "output_type": "execute_result",
          "data": {
            "text/plain": [
              "2"
            ]
          },
          "metadata": {},
          "execution_count": 46
        }
      ]
    },
    {
      "cell_type": "markdown",
      "source": [
        "In general, tuples are faster than lists, but lists have many more atributes and options. To see which options either have, type the variable with dot (\".\") after it and wait to see the options. To see what each option will do, you can type a question mark (\"?\") before it and run the cell. Now run the cell below and see what happens.\n",
        "\n",
        "**It sorted the \"number\" types at first from smaller to bigger numbers,with the list component being at last.**"
      ],
      "metadata": {
        "id": "DdHn5DE_DYcT"
      }
    },
    {
      "cell_type": "code",
      "source": [
        "a.sort\n",
        "print (a)\n"
      ],
      "metadata": {
        "id": "oCXXkeiYDRVU",
        "colab": {
          "base_uri": "https://localhost:8080/"
        },
        "outputId": "88315c21-b72b-4f94-8185-611d32c38019"
      },
      "execution_count": 47,
      "outputs": [
        {
          "output_type": "stream",
          "name": "stdout",
          "text": [
            "[1, 1, 2, 3, 5, 2, 6, 7, 5, [32, 54, 'Adas']]\n"
          ]
        }
      ]
    },
    {
      "cell_type": "markdown",
      "source": [
        "Now using the options introduced above, try to make the list \"a\" to look like the tuple \"c\".\n",
        "\n",
        "**I was not sure how to \"un_sort\" the list a,so the easiest way was to make it again from c**"
      ],
      "metadata": {
        "id": "lBgLNtc5FBRd"
      }
    },
    {
      "cell_type": "code",
      "source": [
        "a=[]\n",
        "k=0\n",
        "while k<len(c):\n",
        "  a.append(c[k])\n",
        "  k=k+1\n",
        "print(a)"
      ],
      "metadata": {
        "id": "xIzDK-nzFRMx",
        "colab": {
          "base_uri": "https://localhost:8080/"
        },
        "outputId": "dbf4d1f1-e75a-4f09-ef79-9921cb4de7e2"
      },
      "execution_count": 48,
      "outputs": [
        {
          "output_type": "stream",
          "name": "stdout",
          "text": [
            "[1, 1, 2, 3, 5, 2, 6, 7, 7, 5]\n"
          ]
        }
      ]
    },
    {
      "cell_type": "markdown",
      "source": [
        "# Loops and indexing"
      ],
      "metadata": {
        "id": "_6aNCn3BEsI9"
      }
    },
    {
      "cell_type": "markdown",
      "source": [
        "You can access the members of a list (or tuple) with indexing them as follows:"
      ],
      "metadata": {
        "id": "MOyuvrKdE1Uo"
      }
    },
    {
      "cell_type": "code",
      "source": [
        "print('The first member of tuple \"c\" is:', c[0])\n",
        "print('The third member of tuple \"c\" is:', c[2])\n",
        "print('The last member of tuple \"c\" is:', c[-1])\n",
        "print('The third to last member of tuple \"c\" is:', c[-3])"
      ],
      "metadata": {
        "colab": {
          "base_uri": "https://localhost:8080/"
        },
        "id": "1QpIBOKOEXG3",
        "outputId": "43574237-0e59-4949-c55d-fb2444e046ed"
      },
      "execution_count": 49,
      "outputs": [
        {
          "output_type": "stream",
          "name": "stdout",
          "text": [
            "The first member of tuple \"c\" is: 1\n",
            "The third member of tuple \"c\" is: 2\n",
            "The last member of tuple \"c\" is: 5\n",
            "The third to last member of tuple \"c\" is: 7\n"
          ]
        }
      ]
    },
    {
      "cell_type": "markdown",
      "source": [
        "## For loops\n",
        "Let's see two examples"
      ],
      "metadata": {
        "id": "tabEhDpGF2Oc"
      }
    },
    {
      "cell_type": "code",
      "source": [
        "for i in range(5):\n",
        "  print(i)"
      ],
      "metadata": {
        "colab": {
          "base_uri": "https://localhost:8080/"
        },
        "id": "jpW9oM01FfdT",
        "outputId": "5c6afcca-f6b8-42b6-e7a0-b2c07994b64d"
      },
      "execution_count": 50,
      "outputs": [
        {
          "output_type": "stream",
          "name": "stdout",
          "text": [
            "0\n",
            "1\n",
            "2\n",
            "3\n",
            "4\n"
          ]
        }
      ]
    },
    {
      "cell_type": "code",
      "source": [
        "for cc in c:\n",
        "  print(cc**2)"
      ],
      "metadata": {
        "colab": {
          "base_uri": "https://localhost:8080/"
        },
        "id": "O5_YYt9uGDfk",
        "outputId": "7aadeef7-0418-4beb-8c87-b1317e9f3b28"
      },
      "execution_count": 51,
      "outputs": [
        {
          "output_type": "stream",
          "name": "stdout",
          "text": [
            "1\n",
            "1\n",
            "4\n",
            "9\n",
            "25\n",
            "4\n",
            "36\n",
            "49\n",
            "49\n",
            "25\n"
          ]
        }
      ]
    },
    {
      "cell_type": "markdown",
      "source": [
        "Now write a code to print the members of \"a\" list defiend as below in reverse order."
      ],
      "metadata": {
        "id": "Ewev8_ZtGU9w"
      }
    },
    {
      "cell_type": "code",
      "source": [
        "a = [1, 1, 2, 3, 5, 2, 6, 7, 7, 5, [32, 54, 'Adas']]\n",
        "\n",
        "for i in range(-1,(-1)*len(a)-1,-1):\n",
        "  print (a[i])"
      ],
      "metadata": {
        "id": "tPYkPZgTGRBz",
        "colab": {
          "base_uri": "https://localhost:8080/"
        },
        "outputId": "85e36ec1-82df-451b-d53e-a0694e093e42"
      },
      "execution_count": 52,
      "outputs": [
        {
          "output_type": "stream",
          "name": "stdout",
          "text": [
            "[32, 54, 'Adas']\n",
            "5\n",
            "7\n",
            "7\n",
            "6\n",
            "2\n",
            "5\n",
            "3\n",
            "2\n",
            "1\n",
            "1\n"
          ]
        }
      ]
    },
    {
      "cell_type": "markdown",
      "source": [
        "## While loops\n",
        "It runs while the argument is true. Compelete the code below to get the desired result."
      ],
      "metadata": {
        "id": "I7CQa_pOGqeR"
      }
    },
    {
      "cell_type": "code",
      "source": [
        "i = len(a)-1\n",
        "while i >= 0:\n",
        "  print(a[i])\n",
        "  i=i-1"
      ],
      "metadata": {
        "colab": {
          "base_uri": "https://localhost:8080/"
        },
        "id": "0pQ3WhhCGn6h",
        "outputId": "425811be-74d4-4349-b64d-da9a2392154f"
      },
      "execution_count": 53,
      "outputs": [
        {
          "output_type": "stream",
          "name": "stdout",
          "text": [
            "[32, 54, 'Adas']\n",
            "5\n",
            "7\n",
            "7\n",
            "6\n",
            "2\n",
            "5\n",
            "3\n",
            "2\n",
            "1\n",
            "1\n"
          ]
        }
      ]
    },
    {
      "cell_type": "markdown",
      "source": [
        "# if, else, elif"
      ],
      "metadata": {
        "id": "oKPq6XV_Hn_i"
      }
    },
    {
      "cell_type": "code",
      "source": [
        "x = 5\n",
        "\n",
        "if x > 5:\n",
        "  print('Yay!!')\n",
        "\n",
        "elif x < 5:\n",
        "  print(\"Nay :(\")\n",
        "\n",
        "else:\n",
        "  print(\"Meh..\")"
      ],
      "metadata": {
        "colab": {
          "base_uri": "https://localhost:8080/"
        },
        "id": "Nnq513PxHOpD",
        "outputId": "1816228c-a654-42b1-fb79-4359eca0fe01"
      },
      "execution_count": 54,
      "outputs": [
        {
          "output_type": "stream",
          "name": "stdout",
          "text": [
            "Meh..\n"
          ]
        }
      ]
    },
    {
      "cell_type": "markdown",
      "source": [
        "Now using the example provided above and your knowledge of loops, write a piece of code to print the apropriate messages for each member of the tuple \"c\". "
      ],
      "metadata": {
        "id": "H27B7x6oIOj6"
      }
    },
    {
      "cell_type": "code",
      "source": [
        "for i in c:\n",
        "  if i > 5:\n",
        "    print('Yay!!')\n",
        "  elif i < 5:\n",
        "    print(\"Nay :(\")\n",
        "  else:\n",
        "    print(\"Meh..\")\n",
        "    \n"
      ],
      "metadata": {
        "id": "qtUvveC4IMh5",
        "colab": {
          "base_uri": "https://localhost:8080/"
        },
        "outputId": "ba1df13a-fb76-4d1b-973a-92337988aa0d"
      },
      "execution_count": 55,
      "outputs": [
        {
          "output_type": "stream",
          "name": "stdout",
          "text": [
            "Nay :(\n",
            "Nay :(\n",
            "Nay :(\n",
            "Nay :(\n",
            "Meh..\n",
            "Nay :(\n",
            "Yay!!\n",
            "Yay!!\n",
            "Yay!!\n",
            "Meh..\n"
          ]
        }
      ]
    },
    {
      "cell_type": "markdown",
      "source": [
        "# Libraries"
      ],
      "metadata": {
        "id": "k55bka7DJAjh"
      }
    },
    {
      "cell_type": "markdown",
      "source": [
        "Libraries are collections of many pre-written programs that enable us to write code much more easily. In other words, it's like importing a library expands available python commands.\n",
        "\n",
        "There are three ways to import commands from library.\n",
        "\n",
        "### 1) Import the whole library"
      ],
      "metadata": {
        "id": "8ZTtQ6ZnGMOL"
      }
    },
    {
      "cell_type": "code",
      "source": [
        "import time"
      ],
      "metadata": {
        "id": "ocTrk5zdJEli"
      },
      "execution_count": 56,
      "outputs": []
    },
    {
      "cell_type": "markdown",
      "source": [
        "Now we can use the commands inside \"time\" by using the familirar \"dot\" operator."
      ],
      "metadata": {
        "id": "qOaiUuJKHBZE"
      }
    },
    {
      "cell_type": "code",
      "source": [
        "print(time.localtime())"
      ],
      "metadata": {
        "colab": {
          "base_uri": "https://localhost:8080/"
        },
        "id": "AX7uLHGSHVBo",
        "outputId": "aeb03b10-04e0-44d3-e06c-bf0ce598a7ab"
      },
      "execution_count": 57,
      "outputs": [
        {
          "output_type": "stream",
          "name": "stdout",
          "text": [
            "time.struct_time(tm_year=2022, tm_mon=2, tm_mday=25, tm_hour=10, tm_min=18, tm_sec=38, tm_wday=4, tm_yday=56, tm_isdst=0)\n"
          ]
        }
      ]
    },
    {
      "cell_type": "markdown",
      "source": [
        "### 2) Import certain functions (or classes) from a library"
      ],
      "metadata": {
        "id": "mxwqFfuUIh8z"
      }
    },
    {
      "cell_type": "code",
      "source": [
        "from math import pi, sin"
      ],
      "metadata": {
        "id": "fvhfYqyfIVJO"
      },
      "execution_count": 58,
      "outputs": []
    },
    {
      "cell_type": "code",
      "source": [
        "print(sin(pi/2))"
      ],
      "metadata": {
        "colab": {
          "base_uri": "https://localhost:8080/"
        },
        "id": "LpVcic_mI4tG",
        "outputId": "b756cf95-e5ae-4145-99b4-57bb8c5b979b"
      },
      "execution_count": 59,
      "outputs": [
        {
          "output_type": "stream",
          "name": "stdout",
          "text": [
            "1.0\n"
          ]
        }
      ]
    },
    {
      "cell_type": "markdown",
      "source": [
        "### 3) Import the whole library or certain commands with a different name"
      ],
      "metadata": {
        "id": "Aljr12tMI-Vl"
      }
    },
    {
      "cell_type": "code",
      "source": [
        "import numpy as np\n",
        "from matplotlib import pyplot as plt"
      ],
      "metadata": {
        "id": "iSpdWAgCI7S6"
      },
      "execution_count": 60,
      "outputs": []
    },
    {
      "cell_type": "markdown",
      "source": [
        "We are going to learn how to use these two libraries in the next section.\n",
        "\n",
        "## Installing new libraries in Google colab\n",
        "\n",
        "To do this you need the command \"pip\"."
      ],
      "metadata": {
        "id": "XRiARr0OJVY-"
      }
    },
    {
      "cell_type": "code",
      "source": [
        "!pip install sxs"
      ],
      "metadata": {
        "id": "bcFsepOnJROc",
        "colab": {
          "base_uri": "https://localhost:8080/"
        },
        "outputId": "2d14315e-a843-48ef-dd26-5d47cb48be1e"
      },
      "execution_count": 61,
      "outputs": [
        {
          "output_type": "stream",
          "name": "stdout",
          "text": [
            "Collecting sxs\n",
            "  Using cached sxs-2021.0.5-py3-none-any.whl (177 kB)\n",
            "Collecting tqdm<4.61.2,>=4.48.2\n",
            "  Using cached tqdm-4.61.1-py2.py3-none-any.whl (75 kB)\n",
            "Collecting pytest-forked<2.0.0,>=1.3.0\n",
            "  Using cached pytest_forked-1.4.0-py3-none-any.whl (4.9 kB)\n",
            "Requirement already satisfied: black>=20.8b1 in /usr/local/lib/python3.7/dist-packages (from sxs) (22.1.0)\n",
            "Requirement already satisfied: h5py<4,>=3 in /usr/local/lib/python3.7/dist-packages (from sxs) (3.1.0)\n",
            "Collecting feedparser<7.0.0,>=6.0.1\n",
            "  Using cached feedparser-6.0.8-py3-none-any.whl (81 kB)\n",
            "Requirement already satisfied: pytz<2021.0,>=2020.1 in /usr/local/lib/python3.7/dist-packages (from sxs) (2020.5)\n",
            "Requirement already satisfied: scipy<2.0,>=1.0 in /usr/local/lib/python3.7/dist-packages (from sxs) (1.4.1)\n",
            "Requirement already satisfied: numpy<2.0,>=1.15 in /usr/local/lib/python3.7/dist-packages (from sxs) (1.21.5)\n",
            "Requirement already satisfied: urllib3<2.0.0,>=1.25.10 in /usr/local/lib/python3.7/dist-packages (from sxs) (1.26.8)\n",
            "Requirement already satisfied: importlib-metadata<2.0,>=1.0 in /usr/local/lib/python3.7/dist-packages (from sxs) (1.7.0)\n",
            "Requirement already satisfied: pandas<2.0.0,>=1.1.2 in /usr/local/lib/python3.7/dist-packages (from sxs) (1.3.5)\n",
            "Collecting pylatexenc<3.0,>=2.7\n",
            "  Using cached pylatexenc-2.10-py3-none-any.whl\n",
            "Collecting spherical<2.0,>=1.0\n",
            "  Using cached spherical-1.0.10-py3-none-any.whl (54 kB)\n",
            "Requirement already satisfied: quaternionic<2.0,>=1.0 in /usr/local/lib/python3.7/dist-packages (from sxs) (1.0.1)\n",
            "Requirement already satisfied: spinsfast<105,>=104 in /usr/local/lib/python3.7/dist-packages (from sxs) (104.2021.3.22.15.7.51)\n",
            "Collecting requests<3.0.0,>=2.24.0\n",
            "  Using cached requests-2.27.1-py2.py3-none-any.whl (63 kB)\n",
            "Requirement already satisfied: numba>=0.50 in /usr/local/lib/python3.7/dist-packages (from sxs) (0.51.2)\n",
            "Collecting inflection<0.6.0,>=0.5.1\n",
            "  Using cached inflection-0.5.1-py2.py3-none-any.whl (9.5 kB)\n",
            "Requirement already satisfied: platformdirs>=2 in /usr/local/lib/python3.7/dist-packages (from black>=20.8b1->sxs) (2.5.1)\n",
            "Requirement already satisfied: click>=8.0.0 in /usr/local/lib/python3.7/dist-packages (from black>=20.8b1->sxs) (8.0.4)\n",
            "Requirement already satisfied: pathspec>=0.9.0 in /usr/local/lib/python3.7/dist-packages (from black>=20.8b1->sxs) (0.9.0)\n",
            "Requirement already satisfied: mypy-extensions>=0.4.3 in /usr/local/lib/python3.7/dist-packages (from black>=20.8b1->sxs) (0.4.3)\n",
            "Requirement already satisfied: tomli>=1.1.0 in /usr/local/lib/python3.7/dist-packages (from black>=20.8b1->sxs) (2.0.1)\n",
            "Requirement already satisfied: typed-ast>=1.4.2 in /usr/local/lib/python3.7/dist-packages (from black>=20.8b1->sxs) (1.5.2)\n",
            "Requirement already satisfied: typing-extensions>=3.10.0.0 in /usr/local/lib/python3.7/dist-packages (from black>=20.8b1->sxs) (3.10.0.2)\n",
            "Requirement already satisfied: sgmllib3k in /usr/local/lib/python3.7/dist-packages (from feedparser<7.0.0,>=6.0.1->sxs) (1.0.0)\n",
            "Requirement already satisfied: cached-property in /usr/local/lib/python3.7/dist-packages (from h5py<4,>=3->sxs) (1.5.2)\n",
            "Requirement already satisfied: zipp>=0.5 in /usr/local/lib/python3.7/dist-packages (from importlib-metadata<2.0,>=1.0->sxs) (3.7.0)\n",
            "Requirement already satisfied: llvmlite<0.35,>=0.34.0.dev0 in /usr/local/lib/python3.7/dist-packages (from numba>=0.50->sxs) (0.34.0)\n",
            "Requirement already satisfied: setuptools in /usr/local/lib/python3.7/dist-packages (from numba>=0.50->sxs) (57.4.0)\n",
            "Requirement already satisfied: python-dateutil>=2.7.3 in /usr/local/lib/python3.7/dist-packages (from pandas<2.0.0,>=1.1.2->sxs) (2.8.2)\n",
            "Requirement already satisfied: py in /usr/local/lib/python3.7/dist-packages (from pytest-forked<2.0.0,>=1.3.0->sxs) (1.11.0)\n",
            "Collecting pytest>=3.10\n",
            "  Using cached pytest-7.0.1-py3-none-any.whl (296 kB)\n",
            "Requirement already satisfied: iniconfig in /usr/local/lib/python3.7/dist-packages (from pytest>=3.10->pytest-forked<2.0.0,>=1.3.0->sxs) (1.1.1)\n",
            "Requirement already satisfied: packaging in /usr/local/lib/python3.7/dist-packages (from pytest>=3.10->pytest-forked<2.0.0,>=1.3.0->sxs) (21.3)\n",
            "Requirement already satisfied: attrs>=19.2.0 in /usr/local/lib/python3.7/dist-packages (from pytest>=3.10->pytest-forked<2.0.0,>=1.3.0->sxs) (21.4.0)\n",
            "Requirement already satisfied: pluggy<2.0,>=0.12 in /usr/local/lib/python3.7/dist-packages (from pytest>=3.10->pytest-forked<2.0.0,>=1.3.0->sxs) (1.0.0)\n",
            "Requirement already satisfied: six>=1.5 in /usr/local/lib/python3.7/dist-packages (from python-dateutil>=2.7.3->pandas<2.0.0,>=1.1.2->sxs) (1.15.0)\n",
            "Requirement already satisfied: certifi>=2017.4.17 in /usr/local/lib/python3.7/dist-packages (from requests<3.0.0,>=2.24.0->sxs) (2021.10.8)\n",
            "Requirement already satisfied: idna<4,>=2.5 in /usr/local/lib/python3.7/dist-packages (from requests<3.0.0,>=2.24.0->sxs) (2.10)\n",
            "Requirement already satisfied: charset-normalizer~=2.0.0 in /usr/local/lib/python3.7/dist-packages (from requests<3.0.0,>=2.24.0->sxs) (2.0.12)\n",
            "Requirement already satisfied: pyparsing!=3.0.5,>=2.0.2 in /usr/local/lib/python3.7/dist-packages (from packaging->pytest>=3.10->pytest-forked<2.0.0,>=1.3.0->sxs) (3.0.7)\n",
            "Installing collected packages: pytest, tqdm, spherical, requests, pytest-forked, pylatexenc, inflection, feedparser, sxs\n",
            "  Attempting uninstall: pytest\n",
            "    Found existing installation: pytest 3.6.4\n",
            "    Uninstalling pytest-3.6.4:\n",
            "\u001b[31mERROR: Operation cancelled by user\u001b[0m\n"
          ]
        }
      ]
    },
    {
      "cell_type": "markdown",
      "source": [
        "'sxs' is a library for simulation gravitational waves. We won't be needing this in this course."
      ],
      "metadata": {
        "id": "uGJRJ9JzKQ2F"
      }
    },
    {
      "cell_type": "markdown",
      "source": [
        "# Numpy\n",
        "\n",
        "Numpy is the standard library for doing numerical calculations for scientific purposes in python. It provides a new kind of data sructure called \"numpy array\". While it is more restrictive that normal python lists, it enables us to do vector operations which is (for the most part) much faster. It also provides a wide range of mathematical and statistical operations for the arrys. Let's import numpy and see some examples."
      ],
      "metadata": {
        "id": "DL-uBXefKbIS"
      }
    },
    {
      "cell_type": "code",
      "source": [
        "import numpy as np"
      ],
      "metadata": {
        "id": "B7kpoan6JsM8"
      },
      "execution_count": 62,
      "outputs": []
    },
    {
      "cell_type": "code",
      "source": [
        "a = np.array([1, 1, 2, 3, 5, 8, 13, 21, 34])\n",
        "print(a)"
      ],
      "metadata": {
        "colab": {
          "base_uri": "https://localhost:8080/"
        },
        "id": "DaElHodKQIz3",
        "outputId": "e2637e80-33d1-46a2-fd3c-15e91b5fe33c"
      },
      "execution_count": 63,
      "outputs": [
        {
          "output_type": "stream",
          "name": "stdout",
          "text": [
            "[ 1  1  2  3  5  8 13 21 34]\n"
          ]
        }
      ]
    },
    {
      "cell_type": "code",
      "source": [
        "print(np.sum(a))"
      ],
      "metadata": {
        "colab": {
          "base_uri": "https://localhost:8080/"
        },
        "id": "nle3HxRYQVBp",
        "outputId": "3f26af85-a87a-408d-9522-2f978b8bad12"
      },
      "execution_count": 64,
      "outputs": [
        {
          "output_type": "stream",
          "name": "stdout",
          "text": [
            "88\n"
          ]
        }
      ]
    },
    {
      "cell_type": "code",
      "source": [
        "a.max()"
      ],
      "metadata": {
        "colab": {
          "base_uri": "https://localhost:8080/"
        },
        "id": "wusgbQ1KQae5",
        "outputId": "57618380-1de7-4244-e303-ca004039d2f7"
      },
      "execution_count": 65,
      "outputs": [
        {
          "output_type": "execute_result",
          "data": {
            "text/plain": [
              "34"
            ]
          },
          "metadata": {},
          "execution_count": 65
        }
      ]
    },
    {
      "cell_type": "code",
      "source": [
        "a.mean()"
      ],
      "metadata": {
        "colab": {
          "base_uri": "https://localhost:8080/"
        },
        "id": "RkYpGT6PQf5R",
        "outputId": "f45fdb3a-86ac-4007-d91d-f4c591f1e42b"
      },
      "execution_count": 66,
      "outputs": [
        {
          "output_type": "execute_result",
          "data": {
            "text/plain": [
              "9.777777777777779"
            ]
          },
          "metadata": {},
          "execution_count": 66
        }
      ]
    },
    {
      "cell_type": "markdown",
      "source": [
        "And for some vectorized operations:"
      ],
      "metadata": {
        "id": "7R38qRnARVC0"
      }
    },
    {
      "cell_type": "code",
      "source": [
        "print(3 * a)"
      ],
      "metadata": {
        "colab": {
          "base_uri": "https://localhost:8080/"
        },
        "id": "SQ26mSiBQisy",
        "outputId": "20b9c517-b53b-496e-dab8-449f886c5cc7"
      },
      "execution_count": 67,
      "outputs": [
        {
          "output_type": "stream",
          "name": "stdout",
          "text": [
            "[  3   3   6   9  15  24  39  63 102]\n"
          ]
        }
      ]
    },
    {
      "cell_type": "code",
      "source": [
        "b = np.ones(len(a))\n",
        "print(b)"
      ],
      "metadata": {
        "colab": {
          "base_uri": "https://localhost:8080/"
        },
        "id": "5k_XVQbpReDR",
        "outputId": "07839ee2-78af-432f-c5d5-6495e12501c6"
      },
      "execution_count": 68,
      "outputs": [
        {
          "output_type": "stream",
          "name": "stdout",
          "text": [
            "[1. 1. 1. 1. 1. 1. 1. 1. 1.]\n"
          ]
        }
      ]
    },
    {
      "cell_type": "code",
      "source": [
        "print(a + b)"
      ],
      "metadata": {
        "colab": {
          "base_uri": "https://localhost:8080/"
        },
        "id": "yWAPPwt9Rkux",
        "outputId": "45c60a73-e5d2-49cb-f4b6-337c997432a1"
      },
      "execution_count": 69,
      "outputs": [
        {
          "output_type": "stream",
          "name": "stdout",
          "text": [
            "[ 2.  2.  3.  4.  6.  9. 14. 22. 35.]\n"
          ]
        }
      ]
    },
    {
      "cell_type": "code",
      "source": [
        "for i in range(len(a)):\n",
        "  print(a[i] + b[i])"
      ],
      "metadata": {
        "colab": {
          "base_uri": "https://localhost:8080/"
        },
        "id": "UcqXY3VrRpmz",
        "outputId": "05f3ae95-0a39-43fe-ae3d-e5a183b6c538"
      },
      "execution_count": 70,
      "outputs": [
        {
          "output_type": "stream",
          "name": "stdout",
          "text": [
            "2.0\n",
            "2.0\n",
            "3.0\n",
            "4.0\n",
            "6.0\n",
            "9.0\n",
            "14.0\n",
            "22.0\n",
            "35.0\n"
          ]
        }
      ]
    },
    {
      "cell_type": "markdown",
      "source": [
        "As you might have noticed, array \"a\" shows the first 9 Fibonacci numbers. Now write a piece of code to turn b into a.\n",
        "\n",
        "**This solution is probably not what was intended,because I always use the While loop,and I dont use For loop very often or at all.**"
      ],
      "metadata": {
        "id": "cKyYeSrzR0pp"
      }
    },
    {
      "cell_type": "code",
      "source": [
        "j=0\n",
        "print(b)\n",
        "for i in b:\n",
        "  b[j+2] = b[j+1]+b[j]\n",
        "  j=j+1\n",
        "  if j==len(b)-2:\n",
        "    break\n",
        "print(b)"
      ],
      "metadata": {
        "id": "Z8eITGJVRxYq",
        "colab": {
          "base_uri": "https://localhost:8080/"
        },
        "outputId": "8c049323-1a23-4777-f91d-89a8f9a98aad"
      },
      "execution_count": 71,
      "outputs": [
        {
          "output_type": "stream",
          "name": "stdout",
          "text": [
            "[1. 1. 1. 1. 1. 1. 1. 1. 1.]\n",
            "[ 1.  1.  2.  3.  5.  8. 13. 21. 34.]\n"
          ]
        }
      ]
    },
    {
      "cell_type": "markdown",
      "source": [
        "As another exercise, make a numpy array of size 100 using \"linspace\" between 0 and 2$\\pi$, and calculate the sine of each member in a vectorized manner and put it in a new array."
      ],
      "metadata": {
        "id": "spvEllTiSrS9"
      }
    },
    {
      "cell_type": "code",
      "source": [
        "x = np.linspace(0,2*np.pi,100)\n",
        "print(x)\n",
        "y = np.sin(x)\n",
        "print(y)"
      ],
      "metadata": {
        "id": "eNVqlpgMSjIJ",
        "colab": {
          "base_uri": "https://localhost:8080/"
        },
        "outputId": "918aaffd-4ea6-4e1d-b354-4c18ef665660"
      },
      "execution_count": 72,
      "outputs": [
        {
          "output_type": "stream",
          "name": "stdout",
          "text": [
            "[0.         0.06346652 0.12693304 0.19039955 0.25386607 0.31733259\n",
            " 0.38079911 0.44426563 0.50773215 0.57119866 0.63466518 0.6981317\n",
            " 0.76159822 0.82506474 0.88853126 0.95199777 1.01546429 1.07893081\n",
            " 1.14239733 1.20586385 1.26933037 1.33279688 1.3962634  1.45972992\n",
            " 1.52319644 1.58666296 1.65012947 1.71359599 1.77706251 1.84052903\n",
            " 1.90399555 1.96746207 2.03092858 2.0943951  2.15786162 2.22132814\n",
            " 2.28479466 2.34826118 2.41172769 2.47519421 2.53866073 2.60212725\n",
            " 2.66559377 2.72906028 2.7925268  2.85599332 2.91945984 2.98292636\n",
            " 3.04639288 3.10985939 3.17332591 3.23679243 3.30025895 3.36372547\n",
            " 3.42719199 3.4906585  3.55412502 3.61759154 3.68105806 3.74452458\n",
            " 3.8079911  3.87145761 3.93492413 3.99839065 4.06185717 4.12532369\n",
            " 4.1887902  4.25225672 4.31572324 4.37918976 4.44265628 4.5061228\n",
            " 4.56958931 4.63305583 4.69652235 4.75998887 4.82345539 4.88692191\n",
            " 4.95038842 5.01385494 5.07732146 5.14078798 5.2042545  5.26772102\n",
            " 5.33118753 5.39465405 5.45812057 5.52158709 5.58505361 5.64852012\n",
            " 5.71198664 5.77545316 5.83891968 5.9023862  5.96585272 6.02931923\n",
            " 6.09278575 6.15625227 6.21971879 6.28318531]\n",
            "[ 0.00000000e+00  6.34239197e-02  1.26592454e-01  1.89251244e-01\n",
            "  2.51147987e-01  3.12033446e-01  3.71662456e-01  4.29794912e-01\n",
            "  4.86196736e-01  5.40640817e-01  5.92907929e-01  6.42787610e-01\n",
            "  6.90079011e-01  7.34591709e-01  7.76146464e-01  8.14575952e-01\n",
            "  8.49725430e-01  8.81453363e-01  9.09631995e-01  9.34147860e-01\n",
            "  9.54902241e-01  9.71811568e-01  9.84807753e-01  9.93838464e-01\n",
            "  9.98867339e-01  9.99874128e-01  9.96854776e-01  9.89821442e-01\n",
            "  9.78802446e-01  9.63842159e-01  9.45000819e-01  9.22354294e-01\n",
            "  8.95993774e-01  8.66025404e-01  8.32569855e-01  7.95761841e-01\n",
            "  7.55749574e-01  7.12694171e-01  6.66769001e-01  6.18158986e-01\n",
            "  5.67059864e-01  5.13677392e-01  4.58226522e-01  4.00930535e-01\n",
            "  3.42020143e-01  2.81732557e-01  2.20310533e-01  1.58001396e-01\n",
            "  9.50560433e-02  3.17279335e-02 -3.17279335e-02 -9.50560433e-02\n",
            " -1.58001396e-01 -2.20310533e-01 -2.81732557e-01 -3.42020143e-01\n",
            " -4.00930535e-01 -4.58226522e-01 -5.13677392e-01 -5.67059864e-01\n",
            " -6.18158986e-01 -6.66769001e-01 -7.12694171e-01 -7.55749574e-01\n",
            " -7.95761841e-01 -8.32569855e-01 -8.66025404e-01 -8.95993774e-01\n",
            " -9.22354294e-01 -9.45000819e-01 -9.63842159e-01 -9.78802446e-01\n",
            " -9.89821442e-01 -9.96854776e-01 -9.99874128e-01 -9.98867339e-01\n",
            " -9.93838464e-01 -9.84807753e-01 -9.71811568e-01 -9.54902241e-01\n",
            " -9.34147860e-01 -9.09631995e-01 -8.81453363e-01 -8.49725430e-01\n",
            " -8.14575952e-01 -7.76146464e-01 -7.34591709e-01 -6.90079011e-01\n",
            " -6.42787610e-01 -5.92907929e-01 -5.40640817e-01 -4.86196736e-01\n",
            " -4.29794912e-01 -3.71662456e-01 -3.12033446e-01 -2.51147987e-01\n",
            " -1.89251244e-01 -1.26592454e-01 -6.34239197e-02 -2.44929360e-16]\n"
          ]
        }
      ]
    },
    {
      "cell_type": "markdown",
      "source": [
        "# Matplotlib\n",
        "\n",
        "Matplotlib is a library used for simple plotting. It is basically the python version of Matlab plot and is sufficient for most scientific purposes. There are also more advanced plotting libraries like \"Seaborn\" and \"Plotly\"."
      ],
      "metadata": {
        "id": "saZ3z0KYTUWj"
      }
    },
    {
      "cell_type": "code",
      "source": [
        "import matplotlib.pyplot as plt"
      ],
      "metadata": {
        "id": "02HbUlGcTV8A"
      },
      "execution_count": 73,
      "outputs": []
    },
    {
      "cell_type": "markdown",
      "source": [
        "Now lt's plot the sine function we made above"
      ],
      "metadata": {
        "id": "lQFAQDrL7wSF"
      }
    },
    {
      "cell_type": "code",
      "source": [
        "plt.plot(x, y)\n",
        "#Adding some comments:\n",
        "plt.xlabel(\"X\")\n",
        "plt.ylabel(\"Sin(X)\")\n",
        "plt.title(\"A Sin graph\")\n",
        "plt.show()\n"
      ],
      "metadata": {
        "colab": {
          "base_uri": "https://localhost:8080/",
          "height": 295
        },
        "id": "r9TQM6lx7OE6",
        "outputId": "3276c679-de2f-4a35-b309-85b2d07647a4"
      },
      "execution_count": 82,
      "outputs": [
        {
          "output_type": "display_data",
          "data": {
            "image/png": "[encoded data removed]",
            "text/plain": [
              "<Figure size 432x288 with 1 Axes>"
            ]
          },
          "metadata": {
            "needs_background": "light"
          }
        }
      ]
    },
    {
      "cell_type": "markdown",
      "source": [
        "This is the basic plotting function. you can add labels, legends, change fonts, etc..\n",
        "\n",
        "As an exercise, add labels for the x and y axes to the plot above, and also label the line."
      ],
      "metadata": {
        "id": "CXqyajxWB8B9"
      }
    },
    {
      "cell_type": "markdown",
      "source": [
        "# Reading and writing files using numpy"
      ],
      "metadata": {
        "id": "iFsiIHEhCTV1"
      }
    },
    {
      "cell_type": "markdown",
      "source": [
        "For reading and writing text files with numpy, we can use \"readtxt\" and \"savetxt\" commands. Let's see some examples."
      ],
      "metadata": {
        "id": "YvU9h3qB4mTh"
      }
    },
    {
      "cell_type": "code",
      "source": [
        "data_to_save = np.column_stack((x, y))\n",
        "np.savetxt('sine_function', data_to_save)"
      ],
      "metadata": {
        "id": "2F9Aj3U2B5lm"
      },
      "execution_count": 75,
      "outputs": []
    },
    {
      "cell_type": "markdown",
      "source": [
        "Now for exercise, try to save the data with a header.\n",
        "\n",
        "**Isn't this already done?**"
      ],
      "metadata": {
        "id": "za8hZb0-6JQA"
      }
    },
    {
      "cell_type": "code",
      "source": [
        "data_to_read = np.loadtxt('sine_function')"
      ],
      "metadata": {
        "id": "PTbnSI7f5fFm"
      },
      "execution_count": 76,
      "outputs": []
    },
    {
      "cell_type": "markdown",
      "source": [
        "To see whether it's the same data or not, we can plot it."
      ],
      "metadata": {
        "id": "E-Kk80Rx6cz_"
      }
    },
    {
      "cell_type": "code",
      "source": [
        "plt.plot(data_to_read[:,0], data_to_read[:,1])\n",
        "plt.show()\n",
        "#My code:\n",
        "Angles=np.savetxt('X',x)\n",
        "Sin=np.savetxt('Sin',y)\n",
        "Read_Angles=np.loadtxt('X')\n",
        "Read_Sin=np.loadtxt(\"Sin\")\n",
        "plt.plot(Read_Angles,Read_Sin)\n",
        "plt.show()"
      ],
      "metadata": {
        "id": "XAxnOkuY6bs8",
        "colab": {
          "base_uri": "https://localhost:8080/",
          "height": 513
        },
        "outputId": "8d21e97a-dae5-469f-ea8b-adae98d088aa"
      },
      "execution_count": 84,
      "outputs": [
        {
          "output_type": "display_data",
          "data": {
            "image/png": "[encoded data removed]",
            "text/plain": [
              "<Figure size 432x288 with 1 Axes>"
            ]
          },
          "metadata": {
            "needs_background": "light"
          }
        },
        {
          "output_type": "display_data",
          "data": {
            "image/png": "[encoded data removed]",
            "text/plain": [
              "<Figure size 432x288 with 1 Axes>"
            ]
          },
          "metadata": {
            "needs_background": "light"
          }
        }
      ]
    },
    {
      "cell_type": "markdown",
      "source": [
        "Now as an exercise, try to read the file into twe seperate variables. (insted of having just \"data_to_read\" read it into \"x\" and \"y\", each corresponding to an axis.\n",
        "\n",
        "**Done!**"
      ],
      "metadata": {
        "id": "6GeMrWtQ7DPQ"
      }
    },
    {
      "cell_type": "markdown",
      "source": [
        "# Functions"
      ],
      "metadata": {
        "id": "xmDKg62f7W_7"
      }
    },
    {
      "cell_type": "markdown",
      "source": [
        "Functions in python, are defined using the command \"def\". If a variable is defined inside of a function, when we run that function, the variable is local and it's value is lost when we retrun the function. On the other hand if we do not define a variable tha we use in a function, function tries to read a globally defined variable with the same name. If it is not defined before running the function, we will see an error.\n",
        "\n",
        "As an example, let's define a function that returns the sum of two input variables."
      ],
      "metadata": {
        "id": "PxzTkElg7g6U"
      }
    },
    {
      "cell_type": "code",
      "source": [
        "def my_sum_function(x, y):\n",
        "  return x + y"
      ],
      "metadata": {
        "id": "AyPpaWAa6tn4"
      },
      "execution_count": 78,
      "outputs": []
    },
    {
      "cell_type": "code",
      "source": [
        "my_sum_function(10, 12)"
      ],
      "metadata": {
        "id": "ei-6Gq_B8xCO",
        "colab": {
          "base_uri": "https://localhost:8080/"
        },
        "outputId": "c1e8242f-bfdb-4ac9-9b1b-f5e09694d8e0"
      },
      "execution_count": 79,
      "outputs": [
        {
          "output_type": "execute_result",
          "data": {
            "text/plain": [
              "22"
            ]
          },
          "metadata": {},
          "execution_count": 79
        }
      ]
    },
    {
      "cell_type": "markdown",
      "source": [
        "Now try to write a function that reads a number N and returns the Nth Fibonacci number.\n",
        "\n",
        "**I knew a very famous recursion formula for this and used that method:**"
      ],
      "metadata": {
        "id": "8KL1PUGt81cZ"
      }
    },
    {
      "cell_type": "code",
      "source": [
        "def Fibonacci(N):\n",
        "  F1 = 1\n",
        "  F2 = 1\n",
        "  if N==1 or N==2:\n",
        "    return 1\n",
        "  else:\n",
        "    return Fibonacci(N-1)+Fibonacci(N-2)\n",
        "#Testing the function:   \n",
        "f=1\n",
        "while f<=10:\n",
        "  print (Fibonacci(f))\n",
        "  f=f+1\n",
        "#It works."
      ],
      "metadata": {
        "id": "mEabqHWb80ak",
        "colab": {
          "base_uri": "https://localhost:8080/"
        },
        "outputId": "129f0899-72c8-41d0-ce71-4bd276ab9661"
      },
      "execution_count": 89,
      "outputs": [
        {
          "output_type": "stream",
          "name": "stdout",
          "text": [
            "1\n",
            "1\n",
            "2\n",
            "3\n",
            "5\n",
            "8\n",
            "13\n",
            "21\n",
            "34\n",
            "55\n"
          ]
        }
      ]
    }
  ]
}